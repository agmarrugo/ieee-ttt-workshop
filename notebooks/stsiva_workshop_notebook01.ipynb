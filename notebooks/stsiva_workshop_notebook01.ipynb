{
  "nbformat": 4,
  "nbformat_minor": 0,
  "metadata": {
    "colab": {
      "name": "stsiva_workshop_notebook01.ipynb",
      "provenance": [],
      "authorship_tag": "ABX9TyMbhxV76AHHIZRN5mY3/nMh",
      "include_colab_link": true
    },
    "kernelspec": {
      "name": "python3",
      "display_name": "Python 3"
    },
    "language_info": {
      "name": "python"
    }
  },
  "cells": [
    {
      "cell_type": "markdown",
      "metadata": {
        "id": "view-in-github",
        "colab_type": "text"
      },
      "source": [
        "<a href=\"https://colab.research.google.com/github/opi-lab/stsiva-workshop/blob/main/notebooks/stsiva_workshop_notebook01.ipynb\" target=\"_parent\"><img src=\"https://colab.research.google.com/assets/colab-badge.svg\" alt=\"Open In Colab\"/></a>"
      ]
    },
    {
      "cell_type": "markdown",
      "metadata": {
        "id": "a8XrbGJa15jt"
      },
      "source": [
        "# Pinhole camera model fundamentals\n",
        "\n",
        "*STSIVA Workshop - 2021*\n",
        "\n",
        "**Speakers:**    \n",
        "Jhacson Meza - [@jhacsonmeza](https://github.com/jhacsonmeza)    \n",
        "Andrés G. Marrugo, PhD -     [@agmarrugo](https://github.com/agmarrugo)     \n",
        "Universidad Tecnológica de Bolívar    \n",
        "\n",
        "In this example, we will be exploring how to estimate the camera matrix and project world points from a known object. Adapted from [EGNN 512](http://inside.mines.edu/~whoff/) by W. Woff.\n",
        "\n",
        "*The source of this notebook is located at https://github.com/opi-lab/stsiva-workshop/*\n",
        "\n",
        "*Useful intro about [Colab](https://colab.research.google.com/notebooks/welcome.ipynb)*\n",
        "\n",
        "*Useful intro about [OpenCV](https://opencv.org/)*"
      ]
    },
    {
      "cell_type": "markdown",
      "metadata": {
        "id": "ADjH2PwCId-s"
      },
      "source": [
        "### The image of a cube\n",
        "\n",
        "A cube has vertices in world coordinates: (0,0,0), (1,0,0),\n",
        "(1,1,0), (0,1,0), (0,0,1), (1,0,1), (1,1,1), (0,1,1). A camera is located at\n",
        "(X,Y,Z) = (3,-4,2) in world coordinates. The camera points directly\n",
        "at the origin and there is no roll about the axis (i.e., the +Z axis of the world points up in the image). \n",
        "\n",
        "Generate an image of a wireframe model of the cube as if were seen by the camera, as shown in the figure. Assume a pinhole camera model, with focal length = 600 pixels, where the image size is 640 pixels wide by 480 pixels high.\n",
        "\n",
        "![](https://github.com/opi-lab/stsiva-workshop/raw/main/figures/cube.gif)"
      ]
    },
    {
      "cell_type": "markdown",
      "metadata": {
        "id": "_EbFnb4pK9I4"
      },
      "source": [
        "## Solution\n",
        "\n",
        "We use the fact that the +Z axis of the camera is the direction in which it points. We can get this by computing the vector from the camera’s location, to the point at which it is looking (the world\n",
        "origin): $\\hat{\\mathbf{z}} = -\\mathbf{t}/|\\mathbf{t}|$, where $\\mathbf{t}$ is the location of the camera in the world.\n",
        "\n",
        "Next, we know that there is no roll about the axis (i.e., the +Z axis of the world points up in the image). This is equivalent to saying that the +X axis of the camera lies in the XY plane of the world. We can get this by doing a cross product of the camera’s Z axis with world Z axis.\n",
        "\n",
        "Finally, the Y axis of the camera is given by the cross product of the Z axis with the X axis."
      ]
    },
    {
      "cell_type": "markdown",
      "metadata": {
        "id": "4IS4zpAnL89o"
      },
      "source": [
        "## The code:"
      ]
    },
    {
      "cell_type": "code",
      "metadata": {
        "id": "uuZJZXBvT1LU"
      },
      "source": [
        "# Let's import the necessary libraries\n",
        "import numpy as np\n",
        "import cv2 \n",
        "import matplotlib.pylab as plt\n",
        "# from google.colab.patches import cv2_imshow # for image display\n",
        "# import pandas as pd\n",
        "# from skimage import io\n",
        "# from PIL import Image \n",
        "# import urllib.request"
      ],
      "execution_count": 24,
      "outputs": []
    },
    {
      "cell_type": "code",
      "metadata": {
        "colab": {
          "base_uri": "https://localhost:8080/"
        },
        "id": "6a_ai8yIUPk9",
        "outputId": "b11e9e6d-66ce-414d-ca6d-b6955b42e77e"
      },
      "source": [
        "# Create camera pose\n",
        "tc_w = np.array([3, -4, 2]) # location of camera origin in world\n",
        "\n",
        "# The z axis of camera is the unit vector from camera to the world origin\n",
        "uz_w = -tc_w/np.linalg.norm(tc_w)\n",
        "\n",
        "print('The camera z-axis:', uz_w)\n",
        " \n",
        "# The x axis of camera is in xy plane of world.\n",
        "ux_w = np.cross(uz_w, np.array([0, 0, 1]))\n",
        "ux_w = ux_w/np.linalg.norm(ux_w)\n",
        "\n",
        "print('The camera x-axis:', ux_w)\n",
        "\n",
        "# finally, form the y axis\n",
        "uy_w = np.cross(uz_w, ux_w);\n",
        "\n",
        "print('The camera y-axis:', uy_w)\n",
        "\n",
        "R_c_w = np.hstack((ux_w.reshape(3,1), uy_w.reshape(3,1), uz_w.reshape(3,1)))\n",
        "\n",
        "print('The camera rotation matrix: \\n', R_c_w)\n",
        "H_c_w = np.hstack((R_c_w, tc_w.reshape(3,1)))\n",
        "H_c_w = np.vstack((H_c_w, np.array([0, 0, 0, 1])))\n",
        "H_w_c = np.linalg.inv(H_c_w)"
      ],
      "execution_count": 25,
      "outputs": [
        {
          "output_type": "stream",
          "name": "stdout",
          "text": [
            "The camera z-axis: [-0.55708601  0.74278135 -0.37139068]\n",
            "The camera x-axis: [ 0.8  0.6 -0. ]\n",
            "The camera y-axis: [ 0.22283441 -0.29711254 -0.92847669]\n",
            "The camera rotation matrix: \n",
            " [[ 0.8         0.22283441 -0.55708601]\n",
            " [ 0.6        -0.29711254  0.74278135]\n",
            " [-0.         -0.92847669 -0.37139068]]\n"
          ]
        }
      ]
    },
    {
      "cell_type": "code",
      "metadata": {
        "colab": {
          "base_uri": "https://localhost:8080/"
        },
        "id": "r3CxKwVdcAsg",
        "outputId": "78b9d5c8-a8d5-4fe2-c77b-2c175cee165d"
      },
      "source": [
        "# Create camera projection matrices\n",
        "# Here are the given parameters of the camera:\n",
        "H = 480 # height of image in pixels\n",
        "W = 640 # width of image in pixels\n",
        "f = 600 # focal length in pixels\n",
        "cx = W/2 # optical center\n",
        "cy = H/2\n",
        "\n",
        "# % Intrinsic camera parameter matrix\n",
        "K = np.array([[f, 0, cx], [0, f, cy], [0, 0, 1]])\n",
        "\n",
        "print('The camera intrinsic matrix:\\n', K)\n",
        "\n",
        "# Extrinsic camera parameter matrix\n",
        "Mext = H_w_c[0:3,:]\n",
        "print('The camera extrinsic matrix:\\n', Mext)"
      ],
      "execution_count": 26,
      "outputs": [
        {
          "output_type": "stream",
          "name": "stdout",
          "text": [
            "The camera intrinsic matrix:\n",
            " [[600.   0. 320.]\n",
            " [  0. 600. 240.]\n",
            " [  0.   0.   1.]]\n",
            "The camera extrinsic matrix:\n",
            " [[ 8.00000000e-01  6.00000000e-01  1.86940324e-17 -2.92128642e-16]\n",
            " [ 2.22834406e-01 -2.97112541e-01 -9.28476691e-01  1.44658472e-16]\n",
            " [-5.57086015e-01  7.42781353e-01 -3.71390676e-01  5.38516481e+00]]\n"
          ]
        }
      ]
    },
    {
      "cell_type": "code",
      "metadata": {
        "id": "WeyIL8Bic3xy"
      },
      "source": [
        "# Define model in world coords\n",
        "# The complete set of vertices is\n",
        "P_w = np.array([[0, 1, 1, 0, 0, 1, 1, 0],\n",
        "                [0, 0, 1, 1, 0, 0, 1, 1],\n",
        "                [0, 0, 0, 0, 1, 1, 1, 1],\n",
        "                [1, 1, 1, 1, 1, 1, 1, 1]])\n",
        "# print(P_w)\n",
        "\n",
        "# P_w = P_w \n",
        "\n",
        "# Define the lines to be drawn (indices of starting and ending points)\n",
        "# lower 4 points form a square\n",
        "# upper 4 points form a square\n",
        "# connect lower square to upper square\n",
        "Lines = np.array([\n",
        "    [0,  1],      \n",
        "    [1,  2],\n",
        "    [2,  3],\n",
        "    [3,  0],\n",
        "    [4,  5],      \n",
        "    [5,  6],\n",
        "    [6,  7],\n",
        "    [7,  4],\n",
        "    [0,  4],      \n",
        "    [1,  5],\n",
        "    [2,  6],\n",
        "    [3, 7]])"
      ],
      "execution_count": 27,
      "outputs": []
    },
    {
      "cell_type": "code",
      "metadata": {
        "id": "uLNG1QaAeZYk",
        "colab": {
          "base_uri": "https://localhost:8080/"
        },
        "outputId": "bba56102-7352-4587-c320-752ab02dcdc7"
      },
      "source": [
        "# Do perspective projection\n",
        "p_img = K @ Mext @ P_w\n",
        "\n",
        "# We convert p_img from homogenous to cartesian\n",
        "p_img = p_img[:-1]/p_img[-1]\n",
        "\n",
        "print('The projected points are:')\n",
        "print(p_img)"
      ],
      "execution_count": 28,
      "outputs": [
        {
          "output_type": "stream",
          "name": "stdout",
          "text": [
            "The projected points are:\n",
            "[[320.         419.41842721 470.7846146  378.74725244 320.\n",
            "  427.70329614 481.55494421 382.53739776]\n",
            " [240.         267.69230769 232.         210.90909091 128.88888889\n",
            "  145.         124.28571429 112.25806452]]\n"
          ]
        }
      ]
    },
    {
      "cell_type": "code",
      "metadata": {
        "colab": {
          "base_uri": "https://localhost:8080/",
          "height": 269
        },
        "id": "y9qysiT6f31o",
        "outputId": "c5f40504-5bcb-430d-d59e-b1d807da52c0"
      },
      "source": [
        "# Create image\n",
        "I = np.zeros((H, W));\n",
        "\n",
        "plt.imshow(I);\n",
        "\n",
        "for i in range(0, p_img.shape[-1]):\n",
        "  plt.plot(p_img[0,i], p_img[1,i], 'w*')\n",
        "  plt.text(p_img[0,i], p_img[1,i], '{}'.format(i), fontsize=12, color='w')\n",
        "\n",
        "for i in range(0, Lines.shape[0]):\n",
        "  i1 = Lines[i, 0] # index of starting point\n",
        "  i2 = Lines[i, 1] # index of ending point\n",
        "  plt.plot([p_img[0, i1], p_img[0, i2]], [p_img[1, i1], p_img[1, i2]], color='w')\n",
        "\n",
        "  \n",
        "plt.show()"
      ],
      "execution_count": 29,
      "outputs": [
        {
          "output_type": "display_data",
          "data": {
            "image/png": "[encoded data removed]",
            "text/plain": [
              "<Figure size 432x288 with 1 Axes>"
            ]
          },
          "metadata": {
            "needs_background": "light"
          }
        }
      ]
    },
    {
      "cell_type": "markdown",
      "metadata": {
        "id": "RUUqYOHoOevZ"
      },
      "source": [
        "## TODO\n",
        "\n",
        "Modify the above code to move the camera's location closer to or further away from the cube. You can also scale or shift the cube's coordinates and check that the image also moves."
      ]
    }
  ]
}